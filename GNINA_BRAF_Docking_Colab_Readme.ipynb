{
  "cells": [
    {
      "cell_type": "markdown",
      "metadata": {
        "id": "view-in-github",
        "colab_type": "text"
      },
      "source": [
        "<a href=\"https://colab.research.google.com/github/Shivdums/GNINA-RX-BRAF/blob/main/GNINA_BRAF_Docking_Colab_Readme.ipynb\" target=\"_parent\"><img src=\"https://colab.research.google.com/assets/colab-badge.svg\" alt=\"Open In Colab\"/></a>"
      ]
    },
    {
      "cell_type": "markdown",
      "id": "f0e43599",
      "metadata": {
        "id": "f0e43599"
      },
      "source": [
        "# 🧬 Structure-Based Drug Repurposing Against BRAF V600E using GNINA\n",
        "This project explores the use of molecular docking to investigate potential small-molecule inhibitors targeting the oncogenic **BRAF V600E mutant kinase (PDB: 3OG7)** using **GNINA**, an advanced docking tool built on AutoDock Vina and Smina with integrated deep learning-based scoring.\n"
      ]
    },
    {
      "cell_type": "markdown",
      "id": "262033f0",
      "metadata": {
        "id": "262033f0"
      },
      "source": [
        "## 📌 Objective\n",
        "\n",
        "- To study the binding behavior of approved and repurposed drugs (e.g., **Vemurafenib**, **Dabrafenib**, and custom ligands) on the **BRAF V600E** mutant.\n",
        "- To understand the docking workflow and the impact of box definition (`--autobox_ligand` vs manual `--center_x/y/z`) on docking success and accuracy.\n",
        "- To explore different **scoring functions** (empirical vs CNN-based) and the **ranking and sampling** strategies used in GNINA.\n"
      ]
    },
    {
      "cell_type": "markdown",
      "id": "ffbdcf65",
      "metadata": {
        "id": "ffbdcf65"
      },
      "source": [
        "## 🧪 Target Protein\n",
        "\n",
        "- **Protein**: BRAF V600E mutant kinase  \n",
        "- **PDB ID**: `3OG7`  \n",
        "- Contains co-crystallized ligand **Vemurafenib (PLX4032)**\n"
      ]
    },
    {
      "cell_type": "markdown",
      "id": "b669ced1",
      "metadata": {
        "id": "b669ced1"
      },
      "source": [
        "## 💊 Ligands\n",
        "\n",
        "- **Reference ligand**: Vemurafenib (extracted from crystal structure)  \n",
        "- **Comparative ligand**: Dabrafenib (anti-BRAF drug)  \n",
        "- **Custom SMILES**: Multiple candidate compounds generated and converted to 3D\n",
        "\n",
        "### 🔄 Example SMILES to PDB Conversion\n",
        "```bash\n",
        "obabel -:\"<SMILES>\" -O lig.pdb --gen3D --minimize --ff MMFF94\n",
        "```\n"
      ]
    },
    {
      "cell_type": "markdown",
      "id": "8d570ada",
      "metadata": {
        "id": "8d570ada"
      },
      "source": [
        "## 🧬 Molecular Docking Pipeline\n",
        "\n",
        "### 1. Receptor Preparation\n",
        "- Downloaded `3OG7.pdb` from RCSB.\n",
        "- Cleaned manually: retained protein chain + co-crystallized ligand.\n",
        "- Saved as `rec.pdb`.\n",
        "\n",
        "### 2. Ligand Preparation\n",
        "- Extracted Vemurafenib using `grep HETATM`.\n",
        "- Used Open Babel for SMILES-to-3D ligand prep.\n",
        "\n",
        "### 3. Docking Box Definition\n",
        "\n",
        "**Autoboxing:**\n",
        "```bash\n",
        "--autobox_ligand lig.pdb\n",
        "```\n",
        "\n",
        "**Manual box:**\n",
        "```bash\n",
        "--center_x 10.64 --center_y -0.89 --center_z -1.27 --size_x 20 --size_y 20 --size_z 20\n",
        "```\n",
        "\n",
        "### 4. Docking Execution\n",
        "\n",
        "```bash\n",
        "./gnina -r rec.pdb -l lig.pdb --autobox_ligand lig.pdb --seed 42 -o docked_output.sdf.gz\n",
        "```\n",
        "\n",
        "or\n",
        "\n",
        "```bash\n",
        "./gnina -r rec.pdb -l lig.pdb --center_x 10.64 --center_y -0.89 --center_z -1.27 --size_x 20 --size_y 20 --size_z 20 --seed 42 -o docked_manual.sdf.gz\n",
        "```\n"
      ]
    },
    {
      "cell_type": "markdown",
      "id": "6b0cc3a5",
      "metadata": {
        "id": "6b0cc3a5"
      },
      "source": [
        "## 🤖 GNINA Internals Explained\n",
        "\n",
        "### 🔧 Based On\n",
        "- AutoDock Vina: Empirical scoring + Monte Carlo sampling\n",
        "- Smina: Enhanced flexibility over Vina\n",
        "- GNINA: Adds CNN-based scoring\n",
        "\n",
        "### 🧠 Scoring Types\n",
        "\n",
        "#### 1. Empirical (Vina-style)\n",
        "- Uses hydrogen bonds, hydrophobic terms, torsions\n",
        "- Returns ΔG in kcal/mol\n",
        "\n",
        "#### 2. CNN-based (GNINA)\n",
        "- Voxel-based scoring using trained deep learning model\n",
        "- Predicts:\n",
        "  - CNNscore\n",
        "  - CNNaffinity\n",
        "  - CNNpose\n",
        "\n",
        "Enable with:\n",
        "```bash\n",
        "--cnn_scoring crossdock_default2018\n",
        "```\n"
      ]
    },
    {
      "cell_type": "markdown",
      "id": "8462effc",
      "metadata": {
        "id": "8462effc"
      },
      "source": [
        "## 🎯 Sampling Strategy\n",
        "\n",
        "GNINA uses:\n",
        "- Monte Carlo (MC) + Simulated Annealing to sample poses\n",
        "- Local optimization (BFGS)\n",
        "- Top `n` poses are retained and scored\n"
      ]
    },
    {
      "cell_type": "markdown",
      "id": "6fa19fc9",
      "metadata": {
        "id": "6fa19fc9"
      },
      "source": [
        "## 📊 Docking Output\n",
        "\n",
        "- Output in `.sdf.gz` format\n",
        "- Contains all poses, scores, CNN predictions\n",
        "\n",
        "To extract:\n",
        "```bash\n",
        "gunzip docked_output.sdf.gz\n",
        "```\n",
        "\n",
        "Or use Py3Dmol in Colab for visualization\n"
      ]
    },
    {
      "cell_type": "markdown",
      "id": "2f7923fe",
      "metadata": {
        "id": "2f7923fe"
      },
      "source": [
        "## 🧪 Key Findings\n",
        "\n",
        "| Ligand      | Binding Affinity (kcal/mol) | Notes                         |\n",
        "|-------------|-----------------------------|-------------------------------|\n",
        "| Vemurafenib | -9.4                         | Crystal ligand, best docking |\n",
        "| Dabrafenib  | -7.8                         | Less ideal fit                |\n",
        "| Custom Ligand | -6.1                      | Did not dock properly         |\n"
      ]
    },
    {
      "cell_type": "markdown",
      "id": "3b30c1ca",
      "metadata": {
        "id": "3b30c1ca"
      },
      "source": [
        "## 🔚 Future Work\n",
        "\n",
        "- Compare with wild-type BRAF\n",
        "- Dock other anti-cancer or repurposed drugs\n",
        "- Try ZINC15 library for virtual screening\n",
        "- Run MD + MM/GBSA for refinement\n"
      ]
    },
    {
      "cell_type": "markdown",
      "id": "c7cb2190",
      "metadata": {
        "id": "c7cb2190"
      },
      "source": [
        "## 🧠 Learning Highlights\n",
        "\n",
        "- Learned ligand extraction, prep, and docking\n",
        "- Solved docking box issues\n",
        "- Explored GNINA's CNN-based scoring\n",
        "- Visualized docked complexes in 3D\n"
      ]
    },
    {
      "cell_type": "markdown",
      "id": "721622ca",
      "metadata": {
        "id": "721622ca"
      },
      "source": [
        "## 📎 References\n",
        "\n",
        "- GNINA: https://github.com/gnina/gnina  \n",
        "- AutoDock Vina: https://vina.scripps.edu  \n",
        "- ZINC15: https://zinc15.docking.org  \n",
        "- RCSB PDB: https://rcsb.org\n"
      ]
    }
  ],
  "metadata": {
    "colab": {
      "provenance": [],
      "include_colab_link": true
    }
  },
  "nbformat": 4,
  "nbformat_minor": 5
}